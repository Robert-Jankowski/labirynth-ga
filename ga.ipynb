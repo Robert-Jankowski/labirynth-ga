{
 "cells": [
  {
   "cell_type": "markdown",
   "metadata": {},
   "source": [
    "### Imports"
   ]
  },
  {
   "cell_type": "code",
   "execution_count": 30,
   "metadata": {},
   "outputs": [],
   "source": [
    "import matplotlib.pyplot as plt\n",
    "import pandas as pd\n",
    "import random\n",
    "import numpy as np\n",
    "import matplotlib.pyplot as plt\n",
    "import math\n",
    "\n",
    "from time import time\n",
    "\n",
    "random.seed(10)"
   ]
  },
  {
   "cell_type": "markdown",
   "metadata": {},
   "source": [
    "### Functions"
   ]
  },
  {
   "cell_type": "code",
   "execution_count": 14,
   "metadata": {},
   "outputs": [],
   "source": [
    "def calculate_distance(p1, p2, alg_ver):\n",
    "    if alg_ver:\n",
    "        return math.sqrt((p2[0] - p1[0]) ** 2 + (p2[1] - p1[1]) ** 2)\n",
    "    else:\n",
    "        return abs(p2[0] - p1[0]) + abs(p2[1] - p1[1])\n",
    "\n",
    "def calculate_score(distance, initial_distance):\n",
    "    return abs( 1 - distance/initial_distance )\n",
    "\n",
    "def create_chromosome(length):\n",
    "    return list(np.random.choice([\"n\",\"s\",\"w\",\"e\"], length))\n",
    "\n",
    "def create_population(population_size, chromosome_length):\n",
    "    population = []\n",
    "    for i in range(population_size):\n",
    "        population.append(create_chromosome(chromosome_length))\n",
    "    return population\n",
    "\n",
    "def fitness_function(chromosome, initial_distance, start_position, end_position, board, alg_ver):\n",
    "    pos = start_position\n",
    "    for move in chromosome:\n",
    "        if move == \"n\":\n",
    "            pos = (pos[0] - 1, pos[1])\n",
    "        elif move == \"s\":\n",
    "            pos = (pos[0] + 1, pos[1])\n",
    "        elif move == \"w\":\n",
    "            pos = (pos[0], pos[1] - 1)\n",
    "        elif move == \"e\":\n",
    "            pos = (pos[0], pos[1] + 1)\n",
    "        \n",
    "        if pos[0] == 0 or pos[1] == 0:\n",
    "            return 0\n",
    "        elif board[pos[0],pos[1]] == 1:\n",
    "            return calculate_score(calculate_distance(pos, end_position, alg_ver), initial_distance)\n",
    "        elif board[pos[0], pos[1]] == 3:\n",
    "            return 1\n",
    "    return calculate_score(calculate_distance(pos, end_position, alg_ver), initial_distance)\n",
    "\n",
    "def score_population(population, initial_distance, start_position, end_position, board, alg_ver):\n",
    "    population_scores = []\n",
    "    for chromosome in population:\n",
    "        population_scores.append(fitness_function(chromosome, initial_distance, start_position, end_position, board, alg_ver))\n",
    "    return population_scores\n",
    "\n",
    "def population_best_score(scores):\n",
    "    return max(scores)\n",
    "\n",
    "def population_average_score(scores):\n",
    "    return sum(scores)/len(scores)\n",
    "\n",
    "def take_elite(population, population_scores, elite_percentage):\n",
    "    to_cut = int(elite_percentage * len(population))\n",
    "    unsorted_list = list(zip(population, population_scores))\n",
    "    sorted_list = list(sorted(unsorted_list, key=lambda x: x[1], reverse=True))\n",
    "    return list(map(lambda x: x[0], sorted_list))[:to_cut]\n",
    "\n",
    "def crossover_population(population):\n",
    "    children = []\n",
    "    list1 = population[:int(len(population)/2)]\n",
    "    list2 = population[int(len(population)/2):]\n",
    "    for i, j in zip(list1, list2):\n",
    "        split_index = random.randint(0, len(i))\n",
    "        child1 = i[0:split_index] + j[split_index:len(i)]\n",
    "        child2 = j[0:split_index] + i[split_index:len(i)]\n",
    "        children.append(child1)\n",
    "        children.append(child2)\n",
    "    return population + children\n",
    "\n",
    "def mutate_population(population, mutation_chance):\n",
    "    mutated_population = []\n",
    "    for chromosome in population:\n",
    "        if random.random() < mutation_chance:\n",
    "            index_to_change = random.randint(0, len(chromosome) - 1)\n",
    "            mutated_chromosome = chromosome\n",
    "            mutated_chromosome[index_to_change] = np.random.choice(list(set([\"n\",\"s\",\"w\",\"e\"]) - set(mutated_chromosome[index_to_change])))\n",
    "            mutated_population.append(mutated_chromosome)\n",
    "        else:\n",
    "            mutated_population.append(chromosome)\n",
    "    return mutated_population\n",
    "\n",
    "def generate_path(board, chromosome, initial_position):\n",
    "    board_copy = np.copy(board)\n",
    "    pos = initial_position\n",
    "    for move in chromosome:\n",
    "        if move == \"n\":\n",
    "            pos = (pos[0] - 1, pos[1])\n",
    "        elif move == \"s\":\n",
    "            pos = (pos[0] + 1, pos[1])\n",
    "        elif move == \"w\":\n",
    "            pos = (pos[0], pos[1] - 1)\n",
    "        elif move == \"e\":\n",
    "            pos = (pos[0], pos[1] + 1)\n",
    "            \n",
    "        if board[pos[0],pos[1]] == 1 or board[pos[0],pos[1]] == 3:\n",
    "            return board_copy\n",
    "        else:\n",
    "            board_copy[pos[0], pos[1]] = 4\n",
    "    return board_copy\n",
    "\n",
    "def plot_generation_log(generation_log):\n",
    "    generation = generation_log[\"generation\"]\n",
    "    average = generation_log[\"avg\"]\n",
    "    maximum = generation_log[\"max\"]\n",
    "\n",
    "    plt.plot(generation, average, label=\"average\")\n",
    "    plt.plot(generation, maximum, label=\"maximum\")\n",
    "    plt.xlabel(\"Generation\")\n",
    "    plt.ylabel(\"Fitness\")\n",
    "    plt.legend(loc=\"best\")\n",
    "    plt.show()\n",
    "    \n",
    "def show_result_board(board, chromosome, initial_position):\n",
    "    result_board = generate_path(board, chromosome, initial_position)\n",
    "    plt.imshow(result_board)\n",
    "    plt.title(\"Best way\")\n",
    "    plt.show()\n",
    "    \n",
    "def show_statistics(hall_of_fame, generation_log):\n",
    "    print(f\"Fit: {round(hall_of_fame[1]*100)}%\")\n",
    "    print(f\"Generations: {len(generation_log)}\")\n",
    "    \n",
    "def evolutionary_algorithm(initial_size, \n",
    "                           chromosome_size, \n",
    "                           max_generations, \n",
    "                           initial_distance, \n",
    "                           position_start, \n",
    "                           position_end, \n",
    "                           board, \n",
    "                           elite_percentage, \n",
    "                           mutation_chance,\n",
    "                           alg_ver):\n",
    "    \n",
    "    pop = create_population(initial_size, chromosome_size)\n",
    "    generation_log_array = []\n",
    "    list_of_bests = []\n",
    "    \n",
    "    for i in range(MAX_GENERATIONS):\n",
    "        # score population\n",
    "        fit = score_population(pop, initial_distance, position_start, position_end, board, alg_ver)\n",
    "\n",
    "        # take strongest chromosomes\n",
    "        pop = take_elite(pop, fit, elite_percentage)\n",
    "\n",
    "        # calculate best chromosome from population\n",
    "        best_chromosome = pop[0]\n",
    "        best_score = fitness_function(best_chromosome, initial_distance, position_start, position_end, board, alg_ver)\n",
    "        generation_log_array.append((i, len(pop), best_score, population_average_score(fit)))\n",
    "        list_of_bests.append((best_chromosome, best_score))\n",
    "\n",
    "        # break if reach 1\n",
    "        if best_score == 1:\n",
    "            break\n",
    "\n",
    "        #crossover\n",
    "        pop = crossover_population(pop)\n",
    "\n",
    "        #mutate\n",
    "        pop = mutate_population(pop, mutation_chance)\n",
    "\n",
    "    hall_of_fame = max(list_of_bests, key = lambda x: x[1])\n",
    "    generation_log = pd.DataFrame(generation_log_array, columns=[\"generation\", \"population_size\", \"max\", \"avg\"])\n",
    "    \n",
    "    return hall_of_fame, generation_log"
   ]
  },
  {
   "cell_type": "markdown",
   "metadata": {},
   "source": [
    "### Algorithm parameters"
   ]
  },
  {
   "cell_type": "code",
   "execution_count": 15,
   "metadata": {},
   "outputs": [
    {
     "data": {
      "image/png": "[encoded data removed]",
      "text/plain": [
       "<Figure size 432x288 with 1 Axes>"
      ]
     },
     "metadata": {
      "needs_background": "light"
     },
     "output_type": "display_data"
    }
   ],
   "source": [
    "BOARD = np.array([\n",
    "    [1,1,1,1,1,1,1,1,1,1,1,1],\n",
    "    [1,2,0,0,1,0,0,0,1,0,0,1],\n",
    "    [1,1,1,0,0,0,1,0,1,1,0,1],\n",
    "    [1,0,0,0,1,0,1,0,0,0,0,1],\n",
    "    [1,0,1,0,1,1,0,0,1,1,0,1],\n",
    "    [1,0,0,1,1,0,0,0,1,0,0,1],\n",
    "    [1,0,0,0,0,0,1,0,0,0,1,1],\n",
    "    [1,0,1,0,0,1,1,0,1,0,0,1],\n",
    "    [1,0,1,1,1,0,0,0,1,1,0,1],\n",
    "    [1,0,1,0,1,1,0,1,0,1,0,1],\n",
    "    [1,0,1,0,0,0,0,0,0,0,3,1],\n",
    "    [1,1,1,1,1,1,1,1,1,1,1,1]\n",
    "])\n",
    "plt.imshow(BOARD)\n",
    "plt.show()\n",
    "\n",
    "CHROMOSOME_SIZE = 40\n",
    "POSITION_START = (1,1)\n",
    "POSITION_END = (10,10)\n",
    "INITIAL_DISTANCE = calculate_distance(POSITION_START, POSITION_END, 0)\n",
    "INITIAL_SIZE = 500\n",
    "MAX_GENERATIONS = 2000\n",
    "ELITE_PERCENTAGE = 0.5\n",
    "MUTATION_CHANCE = 0.1"
   ]
  },
  {
   "cell_type": "markdown",
   "metadata": {},
   "source": [
    "### Running the algorithm"
   ]
  },
  {
   "cell_type": "code",
   "execution_count": 16,
   "metadata": {},
   "outputs": [],
   "source": [
    "hall_of_fame, generation_log = evolutionary_algorithm(INITIAL_SIZE,\n",
    "                                                      CHROMOSOME_SIZE,\n",
    "                                                      MAX_GENERATIONS,\n",
    "                                                      INITIAL_DISTANCE,\n",
    "                                                      POSITION_START,\n",
    "                                                      POSITION_END,\n",
    "                                                      BOARD,\n",
    "                                                      ELITE_PERCENTAGE,\n",
    "                                                      MUTATION_CHANCE,\n",
    "                                                      0)"
   ]
  },
  {
   "cell_type": "markdown",
   "metadata": {},
   "source": [
    "### Algorithm statistics"
   ]
  },
  {
   "cell_type": "code",
   "execution_count": 17,
   "metadata": {},
   "outputs": [
    {
     "name": "stdout",
     "output_type": "stream",
     "text": [
      "Fit: 100%\n",
      "Generations: 72\n"
     ]
    },
    {
     "data": {
      "image/png": "[encoded data removed]",
      "text/plain": [
       "<Figure size 432x288 with 1 Axes>"
      ]
     },
     "metadata": {
      "needs_background": "light"
     },
     "output_type": "display_data"
    },
    {
     "data": {
      "image/png": "[encoded data removed]",
      "text/plain": [
       "<Figure size 432x288 with 1 Axes>"
      ]
     },
     "metadata": {
      "needs_background": "light"
     },
     "output_type": "display_data"
    }
   ],
   "source": [
    "show_statistics(hall_of_fame, generation_log)\n",
    "show_result_board(BOARD, hall_of_fame[0], POSITION_START)\n",
    "plot_generation_log(generation_log)"
   ]
  },
  {
   "cell_type": "markdown",
   "metadata": {},
   "source": [
    "### Generation log"
   ]
  },
  {
   "cell_type": "code",
   "execution_count": 18,
   "metadata": {},
   "outputs": [
    {
     "name": "stdout",
     "output_type": "stream",
     "text": [
      "    generation  population_size       max       avg\n",
      "0            0              250  0.277778  0.030556\n",
      "1            1              250  0.277778  0.060556\n",
      "2            2              250  0.277778  0.082222\n",
      "3            3              250  0.277778  0.109222\n",
      "4            4              250  0.277778  0.139111\n",
      "..         ...              ...       ...       ...\n",
      "67          67              250  0.833333  0.754444\n",
      "68          68              250  0.833333  0.765667\n",
      "69          69              250  0.833333  0.764778\n",
      "70          70              250  0.833333  0.783778\n",
      "71          71              250  1.000000  0.800444\n",
      "\n",
      "[72 rows x 4 columns]\n"
     ]
    }
   ],
   "source": [
    "print(generation_log)"
   ]
  },
  {
   "cell_type": "markdown",
   "metadata": {},
   "source": [
    "### Breadth-first search"
   ]
  },
  {
   "cell_type": "code",
   "execution_count": 19,
   "metadata": {},
   "outputs": [],
   "source": [
    "def possible_moves(board, point, visited):\n",
    "    stack = []\n",
    "    if (board[point[0] - 1, point[1]] == 0 or board[point[0] - 1, point[1]] == 3) and (point[0] - 1, point[1]) not in visited:\n",
    "        stack.append(\"n\")\n",
    "    if (board[point[0] + 1, point[1]] == 0 or board[point[0] + 1, point[1]] == 3)  and (point[0] + 1, point[1]) not in visited:\n",
    "        stack.append(\"s\")\n",
    "    if (board[point[0], point[1] - 1] == 0 or board[point[0], point[1] - 1] == 3)  and (point[0], point[1] - 1) not in visited:\n",
    "        stack.append(\"w\")\n",
    "    if (board[point[0], point[1] + 1] == 0 or board[point[0], point[1] + 1] == 3)  and (point[0], point[1] + 1) not in visited:\n",
    "        stack.append(\"e\")\n",
    "    return stack\n",
    "    \n",
    "        \n",
    "\n",
    "def bfs(board, max_moves, point, stack=[], visited=[], iteration=0):\n",
    "    if board[point[0],point[1]] == 3:\n",
    "        return (stack, 1)\n",
    "    moves = possible_moves(board, point, visited)\n",
    "    if len(moves) == 0 or len(stack) > max_moves:\n",
    "        return (stack, 0)\n",
    "    moves_stack = []\n",
    "    for move in moves:\n",
    "        if   move == \"n\":\n",
    "            way_n = bfs(board, max_moves, (point[0] - 1, point[1]), stack + [\"n\"], visited + [(point[0] - 1, point[1])], iteration + 1)\n",
    "            moves_stack.append(way_n)\n",
    "        elif move == \"s\":\n",
    "            way_s = bfs(board, max_moves, (point[0] + 1, point[1]), stack + [\"s\"], visited + [(point[0] + 1, point[1])], iteration + 1)\n",
    "            moves_stack.append(way_s)\n",
    "        elif move == \"w\":\n",
    "            way_w = bfs(board, max_moves, (point[0], point[1] - 1), stack + [\"w\"], visited + [(point[0], point[1] - 1)], iteration + 1)\n",
    "            moves_stack.append(way_w)\n",
    "        elif move == \"e\":\n",
    "            way_e = bfs(board, max_moves, (point[0], point[1] + 1), stack + [\"e\"], visited + [(point[0], point[1] + 1)], iteration + 1)\n",
    "            moves_stack.append(way_e)\n",
    "\n",
    "    successful_paths = list(filter(lambda x: x[1] == 1, moves_stack))\n",
    "    \n",
    "    if len(successful_paths) == 0:\n",
    "        return (moves_stack[0][0], 0)\n",
    "    else:\n",
    "        map_paths = list(map(lambda x: x[0], successful_paths))\n",
    "        shortest_path = sorted(map_paths, key=len)[0]\n",
    "        return (shortest_path, 1)"
   ]
  },
  {
   "cell_type": "markdown",
   "metadata": {},
   "source": [
    "### BFS usage"
   ]
  },
  {
   "cell_type": "code",
   "execution_count": 20,
   "metadata": {},
   "outputs": [
    {
     "name": "stdout",
     "output_type": "stream",
     "text": [
      "Is successful:  True\n",
      "['e', 'e', 's', 'e', 'e', 'n', 'e', 'e', 's', 's', 's', 's', 's', 'e', 'e', 's', 'e', 's', 's', 's']\n"
     ]
    },
    {
     "data": {
      "image/png": "[encoded data removed]",
      "text/plain": [
       "<Figure size 432x288 with 1 Axes>"
      ]
     },
     "metadata": {
      "needs_background": "light"
     },
     "output_type": "display_data"
    }
   ],
   "source": [
    "(path, status) = bfs(BOARD, CHROMOSOME_SIZE, POSITION_START)\n",
    "print(\"Is successful: \", True if status else False)\n",
    "print(path)\n",
    "show_result_board(BOARD, path, POSITION_START)\n"
   ]
  },
  {
   "cell_type": "markdown",
   "metadata": {},
   "source": [
    "### Experiment"
   ]
  },
  {
   "cell_type": "code",
   "execution_count": 39,
   "metadata": {},
   "outputs": [],
   "source": [
    "BOARD = np.array([\n",
    "    [1,1,1,1,1,1,1,1,1,1,1,1],\n",
    "    [1,2,0,0,1,0,0,0,1,0,0,1],\n",
    "    [1,1,1,0,0,0,1,0,1,1,0,1],\n",
    "    [1,0,0,0,1,0,1,0,0,0,0,1],\n",
    "    [1,0,1,0,1,1,0,0,1,1,0,1],\n",
    "    [1,0,0,1,1,0,0,0,1,0,0,1],\n",
    "    [1,0,0,0,0,0,1,0,0,0,1,1],\n",
    "    [1,0,1,0,0,1,1,0,1,0,0,1],\n",
    "    [1,0,1,1,1,0,0,0,1,1,0,1],\n",
    "    [1,0,1,0,1,1,0,1,0,1,0,1],\n",
    "    [1,0,1,0,0,0,0,0,0,0,3,1],\n",
    "    [1,1,1,1,1,1,1,1,1,1,1,1]\n",
    "])\n",
    "\n",
    "POSITION_START = (1,1)\n",
    "POSITION_END = (10,10)\n",
    "INITIAL_DISTANCE = calculate_distance(POSITION_START, POSITION_END, 0)\n",
    "ELITE_PERCENTAGE = 0.5\n",
    "MAX_GENERATIONS = 2000\n",
    "\n",
    "# evolutionary_algorithm - input 1 - fitness v1 --------------------------------------------------\n",
    "CHROMOSOME_SIZE_1 = 30\n",
    "INITIAL_SIZE_1 = 400\n",
    "MUTATION_CHANCE_1 = 0.05\n",
    "\n",
    "start1 = time()\n",
    "HOF_1, _ = evolutionary_algorithm(INITIAL_SIZE_1,\n",
    "                                  CHROMOSOME_SIZE_1,\n",
    "                                  MAX_GENERATIONS,\n",
    "                                  INITIAL_DISTANCE,\n",
    "                                  POSITION_START,\n",
    "                                  POSITION_END,\n",
    "                                  BOARD,\n",
    "                                  ELITE_PERCENTAGE,\n",
    "                                  MUTATION_CHANCE_1,\n",
    "                                  0)\n",
    "end1 = time()\n",
    "TIME_1 = (end1 - start1)\n",
    "\n",
    "# evolutionary_algorithm - input 2 - fitness v1  --------------------------------------------------\n",
    "CHROMOSOME_SIZE_2 = 60\n",
    "INITIAL_SIZE_2 = 500\n",
    "MUTATION_CHANCE_2 = 0.05\n",
    "\n",
    "start2 = time()\n",
    "HOF_2, _ = evolutionary_algorithm(INITIAL_SIZE_2,\n",
    "                                  CHROMOSOME_SIZE_2,\n",
    "                                  MAX_GENERATIONS,\n",
    "                                  INITIAL_DISTANCE,\n",
    "                                  POSITION_START,\n",
    "                                  POSITION_END,\n",
    "                                  BOARD,\n",
    "                                  ELITE_PERCENTAGE,\n",
    "                                  MUTATION_CHANCE_2,\n",
    "                                  0)\n",
    "end2 = time()\n",
    "TIME_2 = (end2 - start2)\n",
    "\n",
    "# evolutionary_algorithm - input 3 fitness v1 --------------------------------------------------\n",
    "CHROMOSOME_SIZE_3 = 90\n",
    "INITIAL_SIZE_3 = 800\n",
    "MUTATION_CHANCE_3 = 0.1\n",
    "\n",
    "start3 = time()\n",
    "HOF_3, _ = evolutionary_algorithm(INITIAL_SIZE_3,\n",
    "                                  CHROMOSOME_SIZE_3,\n",
    "                                  MAX_GENERATIONS,\n",
    "                                  INITIAL_DISTANCE,\n",
    "                                  POSITION_START,\n",
    "                                  POSITION_END,\n",
    "                                  BOARD,\n",
    "                                  ELITE_PERCENTAGE,\n",
    "                                  MUTATION_CHANCE_3,\n",
    "                                  0)\n",
    "end3 = time()\n",
    "TIME_3 = (end3 - start3)\n",
    "\n",
    "INITIAL_DISTANCE = calculate_distance(POSITION_START, POSITION_END, 1)\n",
    "\n",
    "# evolutionary_algorithm - input 1 - fitness v2 --------------------------------------------------\n",
    "CHROMOSOME_SIZE_1 = 30\n",
    "INITIAL_SIZE_1 = 400\n",
    "MUTATION_CHANCE_1 = 0.05\n",
    "\n",
    "start7 = time()\n",
    "HOF_7, _ = evolutionary_algorithm(INITIAL_SIZE_1,\n",
    "                                  CHROMOSOME_SIZE_1,\n",
    "                                  MAX_GENERATIONS,\n",
    "                                  INITIAL_DISTANCE,\n",
    "                                  POSITION_START,\n",
    "                                  POSITION_END,\n",
    "                                  BOARD,\n",
    "                                  ELITE_PERCENTAGE,\n",
    "                                  MUTATION_CHANCE_1,\n",
    "                                  1)\n",
    "end7 = time()\n",
    "TIME_7 = (end7 - start7)\n",
    "\n",
    "# evolutionary_algorithm - input 2 - fitness v2 --------------------------------------------------\n",
    "CHROMOSOME_SIZE_2 = 60\n",
    "INITIAL_SIZE_2 = 500\n",
    "MUTATION_CHANCE_2 = 0.05\n",
    "\n",
    "start8 = time()\n",
    "HOF_8, _ = evolutionary_algorithm(INITIAL_SIZE_2,\n",
    "                                  CHROMOSOME_SIZE_2,\n",
    "                                  MAX_GENERATIONS,\n",
    "                                  INITIAL_DISTANCE,\n",
    "                                  POSITION_START,\n",
    "                                  POSITION_END,\n",
    "                                  BOARD,\n",
    "                                  ELITE_PERCENTAGE,\n",
    "                                  MUTATION_CHANCE_2,\n",
    "                                  1)\n",
    "end8 = time()\n",
    "TIME_8 = (end8 - start8)\n",
    "\n",
    "# evolutionary_algorithm - input 3 - fitness v2 --------------------------------------------------\n",
    "CHROMOSOME_SIZE_3 = 90\n",
    "INITIAL_SIZE_3 = 1000\n",
    "MUTATION_CHANCE_3 = 0.1\n",
    "\n",
    "start9 = time()\n",
    "HOF_9, _ = evolutionary_algorithm(INITIAL_SIZE_3,\n",
    "                                  CHROMOSOME_SIZE_3,\n",
    "                                  MAX_GENERATIONS,\n",
    "                                  INITIAL_DISTANCE,\n",
    "                                  POSITION_START,\n",
    "                                  POSITION_END,\n",
    "                                  BOARD,\n",
    "                                  ELITE_PERCENTAGE,\n",
    "                                  MUTATION_CHANCE_3,\n",
    "                                  1)\n",
    "end9 = time()\n",
    "TIME_9 = (end9 - start9)\n",
    "\n",
    "\n",
    "# breadth-first search - input 1 ----------------------------------------------------\n",
    "MAX_MOVES_4 = 30\n",
    "\n",
    "start4 = time()\n",
    "(_, STATUS_4) = bfs(BOARD, MAX_MOVES_4 , POSITION_START)\n",
    "end4 = time()\n",
    "TIME_4 = (end4 - start4)\n",
    "\n",
    "# breadth-first search - input 2 ----------------------------------------------------\n",
    "MAX_MOVES_5 = 60\n",
    "\n",
    "start5 = time()\n",
    "(_, STATUS_5) = bfs(BOARD, MAX_MOVES_5 , POSITION_START)\n",
    "end5 = time()\n",
    "TIME_5 = (end5 - start5)\n",
    "\n",
    "# breadth-first search - input 3 ----------------------------------------------------\n",
    "MAX_MOVES_6 = 90\n",
    "\n",
    "start6 = time()\n",
    "(_, STATUS_6) = bfs(BOARD, MAX_MOVES_6 , POSITION_START)\n",
    "end6 = time()\n",
    "TIME_6 = (end6 - start6)"
   ]
  },
  {
   "cell_type": "code",
   "execution_count": 40,
   "metadata": {},
   "outputs": [
    {
     "name": "stdout",
     "output_type": "stream",
     "text": [
      "--- evolutionary_algorithm - 30 elements - fitness v1 ---\n",
      "1.172s\n",
      "1\n",
      "--- evolutionary_algorithm - 60 elements - fitness v1 ---\n",
      "6.686s\n",
      "1\n",
      "--- evolutionary_algorithm - 90 elements - fitness v1 ---\n",
      "7.925s\n",
      "1\n",
      "--- evolutionary_algorithm - 30 elements - fitness v2 ---\n",
      "20.093s\n",
      "0.8428651597363228\n",
      "--- evolutionary_algorithm - 60 elements - fitness v2 ---\n",
      "9.326s\n",
      "1\n",
      "--- evolutionary_algorithm - 90 elements - fitness v2 ---\n",
      "8.829s\n",
      "1\n",
      "--- breadth-first search - 30 elements ---\n",
      "0.006s\n",
      "1\n",
      "--- breadth-first search - 60 elements ---\n",
      "0.007s\n",
      "1\n",
      "--- breadth-first search - 90 elements ---\n",
      "0.008s\n",
      "1\n"
     ]
    }
   ],
   "source": [
    "print(\"--- evolutionary_algorithm - 30 elements - fitness v1 ---\")\n",
    "print(f\"{round(TIME_1, 3)}s\")\n",
    "print(HOF_1[1])\n",
    "\n",
    "print(\"--- evolutionary_algorithm - 60 elements - fitness v1 ---\")\n",
    "print(f\"{round(TIME_2, 3)}s\")\n",
    "print(HOF_2[1])\n",
    "\n",
    "print(\"--- evolutionary_algorithm - 90 elements - fitness v1 ---\")\n",
    "print(f\"{round(TIME_3, 3)}s\")\n",
    "print(HOF_3[1])\n",
    "\n",
    "print(\"--- evolutionary_algorithm - 30 elements - fitness v2 ---\")\n",
    "print(f\"{round(TIME_7, 3)}s\")\n",
    "print(HOF_7[1])\n",
    "\n",
    "print(\"--- evolutionary_algorithm - 60 elements - fitness v2 ---\")\n",
    "print(f\"{round(TIME_8, 3)}s\")\n",
    "print(HOF_8[1])\n",
    "\n",
    "print(\"--- evolutionary_algorithm - 90 elements - fitness v2 ---\")\n",
    "print(f\"{round(TIME_9, 3)}s\")\n",
    "print(HOF_9[1])\n",
    "\n",
    "print(\"--- breadth-first search - 30 elements ---\")\n",
    "print(f\"{round(TIME_4, 3)}s\")\n",
    "print(STATUS_4)\n",
    "\n",
    "print(\"--- breadth-first search - 60 elements ---\")\n",
    "print(f\"{round(TIME_5, 3)}s\")\n",
    "print(STATUS_5)\n",
    "\n",
    "print(\"--- breadth-first search - 90 elements ---\")\n",
    "print(f\"{round(TIME_6, 3)}s\")\n",
    "print(STATUS_6)"
   ]
  },
  {
   "cell_type": "markdown",
   "metadata": {},
   "source": [
    "|                              | Input size: 30  | Input size: 60     | Input size: 90     |\n",
    "|------------------------------|-----------------|--------------------|--------------------|\n",
    "| Genetic algorithm fitness v1 | 1.172s          | 6.686s             | 7.925s             |\n",
    "| Genetic algorithm fitness v2 | 20.093s <br />(84.2%)| 9.326s        | 8.829s             |\n",
    "| breadth-first search         | 0.006s          | 0.007s             | 0.008s             |"
   ]
  },
  {
   "cell_type": "code",
   "execution_count": 54,
   "metadata": {},
   "outputs": [
    {
     "data": {
      "image/png": "[encoded data removed]",
      "text/plain": [
       "<Figure size 432x288 with 1 Axes>"
      ]
     },
     "metadata": {
      "needs_background": "light"
     },
     "output_type": "display_data"
    }
   ],
   "source": [
    "df=pd.DataFrame({\n",
    "    'input size': [30,60,90], \n",
    "    'gaf1': [TIME_1, TIME_2, TIME_3],\n",
    "    'gaf2': [TIME_7, TIME_8, TIME_9], \n",
    "    'bfs': [TIME_4, TIME_5, TIME_6]})\n",
    " \n",
    "plt.plot( 'input size', 'gaf1', data=df, color='red', label=\"genetic algorithm (v1)\")\n",
    "plt.plot( 'input size', 'gaf2', data=df, color='green', label=\"genetic algorithm (v2)\")\n",
    "plt.plot( 'input size', 'bfs', data=df, color='blue', label=\"breadth-first search\")\n",
    "plt.xlabel(\"elements\")\n",
    "plt.ylabel(\"time (seconds)\")\n",
    "plt.legend()\n",
    "plt.show()"
   ]
  },
  {
   "cell_type": "code",
   "execution_count": null,
   "metadata": {},
   "outputs": [],
   "source": []
  }
 ],
 "metadata": {
  "kernelspec": {
   "display_name": "Python 3",
   "language": "python",
   "name": "python3"
  },
  "language_info": {
   "codemirror_mode": {
    "name": "ipython",
    "version": 3
   },
   "file_extension": ".py",
   "mimetype": "text/x-python",
   "name": "python",
   "nbconvert_exporter": "python",
   "pygments_lexer": "ipython3",
   "version": "3.7.4"
  }
 },
 "nbformat": 4,
 "nbformat_minor": 4
}
